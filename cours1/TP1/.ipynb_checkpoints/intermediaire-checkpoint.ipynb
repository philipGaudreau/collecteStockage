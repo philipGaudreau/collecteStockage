{
 "cells": [
  {
   "cell_type": "code",
   "execution_count": null,
   "metadata": {},
   "outputs": [],
   "source": [
    "# Rappel Python de Bases + Programmation Orientée Objet"
   ]
  },
  {
   "cell_type": "code",
   "execution_count": null,
   "metadata": {},
   "outputs": [],
   "source": [
    "###Section A : Intermediaire "
   ]
  },
  {
   "cell_type": "code",
   "execution_count": null,
   "metadata": {},
   "outputs": [],
   "source": [
    "Structures de données/Liste  "
   ]
  },
  {
   "cell_type": "code",
   "execution_count": null,
   "metadata": {},
   "outputs": [],
   "source": [
    "#Exemple\n",
    "#Remplacer un élément dans une liste \n",
    "liste = [\"Obama\", \"Michelle\", \"Spider-man\", \"Mickey\", \"Hulk\"] \n",
    "nom_a_chercher = \"Mickey\" nouveau_nom =\"Mini\" \n",
    "liste = [x.replace(nom_a_chercher, nouveau_nom) \n",
    "for x in liste] \n",
    "    print(liste)"
   ]
  },
  {
   "cell_type": "code",
   "execution_count": null,
   "metadata": {},
   "outputs": [],
   "source": [
    "Fonction Lambda "
   ]
  },
  {
   "cell_type": "code",
   "execution_count": 13,
   "metadata": {},
   "outputs": [
    {
     "name": "stdout",
     "output_type": "stream",
     "text": [
      "8\n"
     ]
    }
   ],
   "source": [
    "##-----Pratique -----:\n",
    "def cube(n):\n",
    "    return n**3\n",
    "print(cube(2)) \n",
    "\n",
    "#créer une expression lambda qui calcule le cube d'un nombre donné?"
   ]
  },
  {
   "cell_type": "code",
   "execution_count": null,
   "metadata": {},
   "outputs": [],
   "source": [
    "##-----Pratique -----:\n",
    "#Ecrire du code pour additionner deux variables\n",
    "# indciation utiliser une expression lambda au lieu d une fonction\n",
    "'''def add(a,b):\n",
    "    return a+b\n",
    "\n",
    "print(add(10,20))'''\n",
    "## solution\n",
    "l=lambda a,b:a+b\n",
    "print(l(10,20))"
   ]
  },
  {
   "cell_type": "code",
   "execution_count": 14,
   "metadata": {},
   "outputs": [
    {
     "name": "stdout",
     "output_type": "stream",
     "text": [
      "8\n",
      "8\n"
     ]
    }
   ],
   "source": [
    "##-----Pratique / Solution -----:\n",
    "def cube(n):\n",
    "    return n**3\n",
    "print(cube(2)) \n",
    "\n",
    "#créer une expression lambda qui calcule le cube d'un nombre donné?\n",
    "#Solution\n",
    "f = lambda n:n**3\n",
    "print(f(2))"
   ]
  },
  {
   "cell_type": "code",
   "execution_count": null,
   "metadata": {},
   "outputs": [],
   "source": [
    "##-----Pratique -----:\n",
    "#créer une expression lambda qui retournera oui si le nombre donné est pair et \n",
    "#non si le nombre donné est impair?"
   ]
  },
  {
   "cell_type": "code",
   "execution_count": 17,
   "metadata": {},
   "outputs": [
    {
     "name": "stdout",
     "output_type": "stream",
     "text": [
      "YES\n",
      "NO\n"
     ]
    }
   ],
   "source": [
    "##-----Pratique /Solution-----:\n",
    "#Ecrire une expression lambda qui retourne oui si le nombre donné est pair et non \n",
    "#si le nombre donné est impair?\n",
    "l= lambda x: 'YES' if x%2==0 else 'NO'\n",
    "print(l(4))\n",
    "print(l(5))"
   ]
  },
  {
   "cell_type": "code",
   "execution_count": null,
   "metadata": {},
   "outputs": [],
   "source": [
    "##-----Pratique /Solution-----:\n",
    "#Ecrire du code simple pour multiplier chaque element de la liste par 2\n",
    "#indication: expression lambda et map()\n",
    "lst=[2,3,4,5]\n",
    "#créer une expre\n",
    "result = list(map(lambda n:n*2,lst))\n",
    "print(result)\n",
    "print(lst)"
   ]
  },
  {
   "cell_type": "code",
   "execution_count": null,
   "metadata": {},
   "outputs": [],
   "source": [
    "##-----Pratique /Solution-----:\n",
    "#Ecrire du code simple pour recuperer uniquement les elements de la liste qui sont divisible par 2\n",
    "#indication: expression lambda et filter()\n",
    "\n",
    "lst=[10,2,33,45,89,2]\n",
    "\n",
    "result = list(filter(lambda x:x%2==0,lst))\n",
    "print(result)\n",
    "for i in result:print(i)"
   ]
  },
  {
   "cell_type": "code",
   "execution_count": null,
   "metadata": {},
   "outputs": [],
   "source": [
    "##-----Pratique /Solution-----:\n",
    "#Ecrire du code simple pour aditionner les elements d une liste un a un\n",
    "#indication: expression lambda et reduce()\n",
    "lst=[5,10,15,20]\n",
    "result=reduce(lambda x,y:x+y, lst)\n",
    "print(result)"
   ]
  },
  {
   "cell_type": "code",
   "execution_count": null,
   "metadata": {},
   "outputs": [],
   "source": [
    "###Structures de données/Tuple & Fonction Lambda  "
   ]
  },
  {
   "cell_type": "code",
   "execution_count": null,
   "metadata": {},
   "outputs": [],
   "source": [
    "#Exemple\n",
    "#Trier une liste de tuples liste = [(\"Harry Potter\", 5), (\"Wall-E\", 3), (\"Blade Runner\", 4)] \n",
    "liste.sort(key=lambda x: x[1]) print(liste) [('Wall-E', 3), ('Blade Runner', 4), ('Harry Potter', 5)]"
   ]
  },
  {
   "cell_type": "code",
   "execution_count": null,
   "metadata": {},
   "outputs": [],
   "source": [
    "### PRogrammation Orientee Objet / Class"
   ]
  },
  {
   "cell_type": "code",
   "execution_count": 3,
   "metadata": {},
   "outputs": [],
   "source": [
    "#-------Pratique / Solution\n",
    "#Écrire un programme qui définit la classe Employee avec les attributs suivants: \n",
    "#nom, (courriel) email  et la méthode changer_courriel()\n",
    "# verifier si le courriel est bin formate et le nom n’est pas vide  \n",
    "\n",
    "class employee ():\n",
    "    def __init__(self, name, email):\n",
    "        self.name =name\n",
    "        self.email=email\n",
    "    \n",
    "    def changeCourriel(mail):\n",
    "        self.email = mail"
   ]
  },
  {
   "cell_type": "code",
   "execution_count": null,
   "metadata": {},
   "outputs": [],
   "source": [
    "#-------Pratique / Solution\n",
    "#------Écrire un programme qui définit une classe Téléphone avec les attributs privés numéro et modèle\n",
    "#---Ajouter au programme de la question 7) les méthodes getnumero et setnumero\n",
    "\n",
    "class telephone ():\n",
    "    def __init__(self, numero, modele):\n",
    "        self.__numero =numero\n",
    "        self.__modele=modele\n",
    "\n",
    "    def getNumero(self):\n",
    "        return self.__numero\n",
    "\n",
    "    def setNumero(self):\n",
    "        self.__numero=numero"
   ]
  }
 ],
 "metadata": {
  "kernelspec": {
   "display_name": "Python 3",
   "language": "python",
   "name": "python3"
  },
  "language_info": {
   "codemirror_mode": {
    "name": "ipython",
    "version": 3
   },
   "file_extension": ".py",
   "mimetype": "text/x-python",
   "name": "python",
   "nbconvert_exporter": "python",
   "pygments_lexer": "ipython3",
   "version": "3.7.8rc1"
  }
 },
 "nbformat": 4,
 "nbformat_minor": 4
}
