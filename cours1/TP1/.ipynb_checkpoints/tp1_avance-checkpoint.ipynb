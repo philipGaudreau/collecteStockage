{
 "cells": [
  {
   "cell_type": "code",
   "execution_count": null,
   "metadata": {},
   "outputs": [],
   "source": [
    "# Rappel Python de Bases + Programmation Orientée Objet\n",
    "###Section A : Avancé"
   ]
  },
  {
   "cell_type": "code",
   "execution_count": null,
   "metadata": {},
   "outputs": [],
   "source": [
    "#-------Pratique\n",
    "##--- Récupérer un élément dans une liste sans générer d'erreur\n",
    "#indication: créer une fonction qui nous permette de récupérer un élément dans une \n",
    "#liste à partir de son indice, sans retourner d'erreur au cas où l'indice est \n",
    "#en dehors des limites de la liste\n",
    "## exemple:\n",
    "#print(recuperer_item(liste, 0))    #--- correct\n",
    "#print(recuperer_item(liste, 5))    #--- la liste ne contient pas le 4eme element\n",
    "#print(recuperer_item(liste, -13))  #--- la liste ne contient pas 12 element si on la parcourt de la fin\n"
   ]
  },
  {
   "cell_type": "code",
   "execution_count": null,
   "metadata": {},
   "outputs": [],
   "source": [
    "#-------Pratique / Solution\n",
    "##--- Récupérer un élément dans une liste sans générer d'erreur\n",
    "#indication: créer une fonction qui nous permette de récupérer un élément dans une \n",
    "#liste à partir de son indice, sans retourner d'erreur au cas où l'indice est \n",
    "#en dehors des limites de la liste\n",
    "## exemple:\n",
    "#print(recuperer_item(liste, 0))    #--- correct\n",
    "#print(recuperer_item(liste, 5))    #--- la liste ne contient pas le 4eme element\n",
    "#print(recuperer_item(liste, -13))  #--- la liste ne contient pas 12 element si on la parcourt de la fin\n",
    "\n",
    "def recuperer_item(liste, indice):\n",
    "    if indice < 0 and abs(indice) <= len(liste):\n",
    "        return liste[indice]\n",
    "    elif indice > 0 and indice < len(liste):\n",
    "        return liste[indice]\n",
    "    elif indice == 0 and liste:\n",
    "        return liste[0]\n",
    " \n",
    "    return \"Index {} hors de la liste\".format(indice)"
   ]
  },
  {
   "cell_type": "code",
   "execution_count": null,
   "metadata": {},
   "outputs": [],
   "source": [
    "#-------Pratique \n",
    "#Écrire un programme qui invite l'utilisateur à entrer une chaîne et compte le nombre d'occurrences \n",
    "#de chaque lettre dans la chaîne, indépendamment de la casse"
   ]
  },
  {
   "cell_type": "code",
   "execution_count": null,
   "metadata": {},
   "outputs": [],
   "source": [
    "#-------Pratique \n",
    "#Écrire un programme qui invite l'utilisateur à entrer une chaîne , écrire une première fonction qui retourne sa longueur. \n",
    "#Ecrire une seconde fonction qui retourne la longueur d'une chaîne après l'avoir transformée en liste."
   ]
  },
  {
   "cell_type": "code",
   "execution_count": null,
   "metadata": {},
   "outputs": [],
   "source": [
    "#-------Pratique \n",
    "#Écrire un programme qui invite l'utilisateur à entrer une phrase, puis fait des statistiques\n",
    "#sur cette phrase ( donne le mot le plus long, le mot le plus court et nombre totale de mots \n",
    "#dans la phrase"
   ]
  },
  {
   "cell_type": "code",
   "execution_count": null,
   "metadata": {},
   "outputs": [],
   "source": [
    "#-------Pratique \n",
    "#Écrire un programme  qui nettoit une chaîne de caractères (String) de tout type de séparateurs (espaces, tabulations,\n",
    "#guillemets, ponctuations et apostrophes)"
   ]
  },
  {
   "cell_type": "code",
   "execution_count": null,
   "metadata": {},
   "outputs": [],
   "source": [
    "#----- Pratique\n",
    "#Pour acheter en ligne un billet de cinéma ( déterminer les objets à manipuler + les actions à faire)\n",
    "#Objets à manipuler ( site web cinema, nom du film, date présentation, heure présentation, montant a payer) \n",
    "#Actions à faire ( entrer le site web du cinéma, choisir nom film, entrer date et heure présentation, afficher montant a payer \n"
   ]
  },
  {
   "cell_type": "code",
   "execution_count": null,
   "metadata": {},
   "outputs": [],
   "source": [
    "# --- Pratique\n",
    "#Pour prendre le bus  (déterminer les objets à manipuler + les actions à faire) \n",
    "#Objets à manipuler ( numéro bus , ticket but, date du jour, heure du jour, montant a payer) \n",
    "#Actions à faire ( aller dans la station bus, chercher le numéro de bus à apprendre, acheter ticket bus, \n",
    "#entrer date et heure, introduire montant à payer "
   ]
  },
  {
   "cell_type": "code",
   "execution_count": null,
   "metadata": {},
   "outputs": [],
   "source": [
    "# --- Pratique\n",
    "# pour réserver  une chambre d’hôtel  sans carte de crédit ( déterminer les objets à manipuler + les actions à faire) \n",
    "# Objets à manipuler ( nom de l’hôtel, date d’arrivée, date départ, nuitées, nombre de chambres, nombre d’adultes, nombre enfants , lit_bébé, montant à payer par nombre de chambres, montant total à payer, confirmation réservation\n",
    "# Actions à faire ( introduire le nom de l’hôtel, introduire les dates d’arrivée et départ, introduire le nombre de chambres, introduire le nombre d’adultes, le nombre d’enfants "
   ]
  }
 ],
 "metadata": {
  "kernelspec": {
   "display_name": "Python 3",
   "language": "python",
   "name": "python3"
  },
  "language_info": {
   "codemirror_mode": {
    "name": "ipython",
    "version": 3
   },
   "file_extension": ".py",
   "mimetype": "text/x-python",
   "name": "python",
   "nbconvert_exporter": "python",
   "pygments_lexer": "ipython3",
   "version": "3.7.8rc1"
  }
 },
 "nbformat": 4,
 "nbformat_minor": 4
}
