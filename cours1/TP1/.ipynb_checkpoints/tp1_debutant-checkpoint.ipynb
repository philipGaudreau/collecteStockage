{
 "cells": [
  {
   "cell_type": "markdown",
   "metadata": {},
   "source": [
    "# Rappel Python de Bases + Programmation Orientée Objet"
   ]
  },
  {
   "cell_type": "markdown",
   "metadata": {},
   "source": [
    "###Section A : Débutant"
   ]
  },
  {
   "cell_type": "code",
   "execution_count": null,
   "metadata": {},
   "outputs": [],
   "source": [
    "###Conversion"
   ]
  },
  {
   "cell_type": "code",
   "execution_count": 13,
   "metadata": {},
   "outputs": [
    {
     "name": "stdout",
     "output_type": "stream",
     "text": [
      "Le nombre est 15\n",
      "Le nombre 15\n"
     ]
    }
   ],
   "source": [
    "##-----Pratique -----:\n",
    "# Convertir le nombre en chaînes de caractères \n",
    "#-------------------------------------------------\n",
    "# nombre = 15\n",
    "## Question: print(\"Le nombre est \" + nombre) ?\n",
    "## 2 solutions possibles \n",
    "#-------------------------------------------------\n",
    "#--Solution 1\n",
    "print(\"Le nombre est \" + str(nombre))\n",
    "#Solution 2\n",
    "print('Le nombre {nombre}'.format(nombre=15))"
   ]
  },
  {
   "cell_type": "code",
   "execution_count": null,
   "metadata": {},
   "outputs": [],
   "source": [
    "###Variable locale/variable globale"
   ]
  },
  {
   "cell_type": "code",
   "execution_count": null,
   "metadata": {},
   "outputs": [],
   "source": [
    "#Exemple 1: \n",
    "def echange(a,b): \n",
    "    print(\"adresses des parametres : \", id(a),id(b)) \n",
    "    c=a a=b b=c\n",
    "    x,y = 2,3 \n",
    "    print(\"adresses de x et de y : \", id(x),id(y)) \n",
    "    echange(x,y) \n",
    "    print(\"x=\",x) \n",
    "    print(\"y=\",y) \n",
    "\n",
    "    adresses de x et de y : 140716463784240 140716463784272 \n",
    "    adresses des parametres : 140716463784240 140716463784272 x= 2 y= 3"
   ]
  },
  {
   "cell_type": "code",
   "execution_count": null,
   "metadata": {},
   "outputs": [],
   "source": [
    "#Exemple 2: \n",
    "\n",
    "def echange2(a,b): \n",
    "    c=a \n",
    "    a=b \n",
    "    b=c \n",
    "    return a,b\n",
    "\n",
    "x,y = 2,3 \n",
    "x,y=echange2(x,y) \n",
    "print(\"x=\",x) \n",
    "print(\"y=\",y) \n",
    "print()\n",
    "a=2 b=3 \n",
    "a,b=echange2(a,b) \n",
    "print(\"a=\",a) \n",
    "print(\"b=\",b) \n",
    "print() \n",
    "x= 3 y= 2\n",
    "a= 3 b= 2"
   ]
  },
  {
   "cell_type": "code",
   "execution_count": null,
   "metadata": {},
   "outputs": [],
   "source": [
    "#Exemple 2: \n",
    "def echange2(a,b): \n",
    "    c=a \n",
    "    a=b \n",
    "    b=c \n",
    "    return a,b\n",
    "\n",
    "x,y = 2,3 \n",
    "x,y=echange2(x,y) \n",
    "print(\"x=\",x)\n",
    "print(\"y=\",y) \n",
    "print() \n",
    "a=2 b=3 \n",
    "a,b=echange2(a,b) \n",
    "print(\"a=\",a) \n",
    "print(\"b=\",b) \n",
    "print() \n",
    "x= 3 y= 2\n",
    "a= 3 b= "
   ]
  },
  {
   "cell_type": "code",
   "execution_count": null,
   "metadata": {},
   "outputs": [],
   "source": [
    "##-----Pratique -----:\n",
    "# La fonction echangeab() ne fonctionne pas.  \n",
    "def echangeab():\n",
    "    global a\n",
    "    c=a\n",
    "    a=b\n",
    "    b=c\n",
    "a=2\n",
    "b=3\n",
    "echangeab()\n",
    "print(\"a=\",a)\n",
    "print(\"b=\",b)"
   ]
  },
  {
   "cell_type": "code",
   "execution_count": 26,
   "metadata": {},
   "outputs": [
    {
     "name": "stdout",
     "output_type": "stream",
     "text": [
      "a= 3\n",
      "b= 2\n"
     ]
    }
   ],
   "source": [
    "## solution \n",
    "def echangeab():\n",
    "    global a\n",
    "    global b\n",
    "    c=a\n",
    "    a=b\n",
    "    b=c\n",
    "a=2\n",
    "b=3\n",
    "echangeab()\n",
    "print(\"a=\",a)\n",
    "print(\"b=\",b)"
   ]
  },
  {
   "cell_type": "code",
   "execution_count": null,
   "metadata": {},
   "outputs": [],
   "source": [
    "## Fonction qui appelle une autre fonction"
   ]
  },
  {
   "cell_type": "code",
   "execution_count": 1,
   "metadata": {},
   "outputs": [
    {
     "name": "stdout",
     "output_type": "stream",
     "text": [
      "Bonjour le monde\n"
     ]
    }
   ],
   "source": [
    "##-----Pratique -----:\n",
    "# Ecrire une fonction qui appelle une autre fonction \n",
    "def display(fun):\n",
    "    return \"Bonjour \"+fun\n",
    "\n",
    "def name():\n",
    "    return \"le monde\"\n",
    "\n",
    "print(display(name()))"
   ]
  },
  {
   "cell_type": "code",
   "execution_count": null,
   "metadata": {},
   "outputs": [],
   "source": [
    "###Structures de données/Liste"
   ]
  },
  {
   "cell_type": "code",
   "execution_count": null,
   "metadata": {},
   "outputs": [],
   "source": [
    "#Exemple: \n",
    "#Créer une liste de nombres allant de 5 à 15 \n",
    "print(list(range(5,16))) \n",
    "[5,6,7,8,9,10,11,12,13,14,15]"
   ]
  },
  {
   "cell_type": "code",
   "execution_count": 27,
   "metadata": {},
   "outputs": [],
   "source": [
    "##-----Pratique -----:\n",
    "#--Créer une liste de nombres pairs de 1 à 100 ?"
   ]
  },
  {
   "cell_type": "code",
   "execution_count": 3,
   "metadata": {},
   "outputs": [
    {
     "name": "stdout",
     "output_type": "stream",
     "text": [
      "[1, 3, 5, 7, 9, 11, 13, 15, 17, 19, 21, 23, 25, 27, 29, 31, 33, 35, 37, 39, 41, 43, 45, 47, 49, 51, 53, 55, 57, 59, 61, 63, 65, 67, 69, 71, 73, 75, 77, 79, 81, 83, 85, 87, 89, 91, 93, 95, 97, 99]\n"
     ]
    }
   ],
   "source": [
    "#-------Solution\n",
    "#--Créer une liste de nombres pairs de 1 à 100\n",
    "print(list(range(1,101,2)))"
   ]
  },
  {
   "cell_type": "code",
   "execution_count": null,
   "metadata": {},
   "outputs": [],
   "source": [
    "#Exemple\n",
    "#------Récupérer des éléments dans une liste \n",
    "ma_liste = [\"Pierre\", \"Paul\", \"Marie\"] \n",
    "print(ma_liste[0]) \n",
    "print(ma_liste[-1]) \n",
    "print(ma_liste[:2]) \n",
    "print(ma_liste[-2:])\n",
    "\n",
    "#-------slicing :\n",
    "#ma_liste[début:fin] print(ma_liste[0:2])"
   ]
  },
  {
   "cell_type": "code",
   "execution_count": 36,
   "metadata": {},
   "outputs": [],
   "source": [
    "##-----Pratique -----:\n",
    "ma_liste = [1, 2, 3, 4, 5, 6, 7, 8, 9, 10]\n",
    "## Récupérer un élément sur deux dans la liste ?\n",
    "## Récupérer un élément sur quatre dans la liste ?\n",
    "## indication: ma_liste[indice_de_depart:indice_de_fin:pas]"
   ]
  },
  {
   "cell_type": "code",
   "execution_count": 43,
   "metadata": {},
   "outputs": [
    {
     "name": "stdout",
     "output_type": "stream",
     "text": [
      "[1, 3, 5, 7, 9]\n",
      "[1, 3, 5, 7, 9]\n",
      "[1, 5, 9]\n",
      "[1, 5, 9]\n"
     ]
    }
   ],
   "source": [
    "## Solution\n",
    "## Récupérer un élément sur deux dans la liste ?\n",
    "ma_liste = [1, 2, 3, 4, 5, 6, 7, 8, 9, 10]\n",
    "## solution 1\n",
    "#pas besoin d'indiquer d'indice spécifique pour les deux premiers nombres  \n",
    "print(ma_liste[::2])\n",
    "## solution 2\n",
    "print(ma_liste[0:10:2])\n",
    "## solution 1\n",
    "print(ma_liste[::4])\n",
    "## solution 2\n",
    "print(ma_liste[0:10:4])"
   ]
  },
  {
   "cell_type": "code",
   "execution_count": null,
   "metadata": {},
   "outputs": [],
   "source": [
    "#Exemple\n",
    "#------Ajouter une élément dans une liste \n",
    "ma_liste = [1, 2, 3] \n",
    "ma_liste.append(5) \n",
    "print(ma_liste)"
   ]
  },
  {
   "cell_type": "code",
   "execution_count": null,
   "metadata": {},
   "outputs": [],
   "source": [
    "##-----Pratique -----:\n",
    "#------ Ajouter plusieurs éléments de la sous liste dans une liste ?\n",
    "ma_liste = [1, 2, 3]\n",
    "sous_liste=[4,5,6]\n",
    "# indication 2 solutions possibles"
   ]
  },
  {
   "cell_type": "code",
   "execution_count": null,
   "metadata": {},
   "outputs": [],
   "source": [
    "#Exemple:\n",
    "#Récupérer les éléments communs aux deux listes \n",
    "liste_01 = [1, 5, 6, 7, 9, 10, 11]\n",
    "liste_02 = [2, 3, 5, 7, 8, 10, 12] \n",
    "sliste_01 = set(liste_01) \n",
    "sliste_02 = set(liste_02) \n",
    "intersect = sliste_01.intersection(sliste_02) \n",
    "print(list(intersect))"
   ]
  },
  {
   "cell_type": "code",
   "execution_count": 49,
   "metadata": {},
   "outputs": [
    {
     "name": "stdout",
     "output_type": "stream",
     "text": [
      "[1, 2, 3, 5, 6, 7, 8, 9, 10, 11, 12]\n"
     ]
    }
   ],
   "source": [
    "##-----Pratique -----:\n",
    "#------ récupérer les éléments communs et non communs aux deux listes?\n",
    "#Solution\n",
    "liste_01 = [1, 5, 6, 7, 9, 10, 11]\n",
    "liste_02 = [2, 3, 5, 7, 8, 10, 12]\n",
    "sliste_01 = set(liste_01)\n",
    "sliste_02 = set(liste_02)\n",
    "uni = sliste_01.union(sliste_02)\n",
    "print(list(uni))"
   ]
  },
  {
   "cell_type": "code",
   "execution_count": null,
   "metadata": {},
   "outputs": [],
   "source": [
    "## Module "
   ]
  },
  {
   "cell_type": "code",
   "execution_count": null,
   "metadata": {},
   "outputs": [],
   "source": [
    "##-----Pratique -----:\n",
    "import math\n",
    "def add(*x):\n",
    "    print(\"Sum is\"+math.fsum(x))\n",
    "    \n",
    "print(add(20,30))"
   ]
  }
 ],
 "metadata": {
  "kernelspec": {
   "display_name": "Python 3",
   "language": "python",
   "name": "python3"
  },
  "language_info": {
   "codemirror_mode": {
    "name": "ipython",
    "version": 3
   },
   "file_extension": ".py",
   "mimetype": "text/x-python",
   "name": "python",
   "nbconvert_exporter": "python",
   "pygments_lexer": "ipython3",
   "version": "3.7.8rc1"
  }
 },
 "nbformat": 4,
 "nbformat_minor": 4
}
