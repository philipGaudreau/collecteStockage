{
 "cells": [
  {
   "cell_type": "code",
   "execution_count": null,
   "metadata": {},
   "outputs": [],
   "source": [
    "# Rappel Python de Bases + Programmation Orientée Objet\n",
    "###Section A : Avancé"
   ]
  },
  {
   "cell_type": "code",
   "execution_count": null,
   "metadata": {},
   "outputs": [],
   "source": [
    "#-------Pratique\n",
    "##--- Récupérer un élément dans une liste sans générer d'erreur\n",
    "#indication: créer une fonction qui nous permette de récupérer un élément dans une \n",
    "#liste à partir de son indice, sans retourner d'erreur au cas où l'indice est \n",
    "#en dehors des limites de la liste\n",
    "## exemple:\n",
    "#print(recuperer_item(liste, 0))    #--- correct\n",
    "#print(recuperer_item(liste, 5))    #--- la liste ne contient pas le 4eme element\n",
    "#print(recuperer_item(liste, -13))  #--- la liste ne contient pas 12 element si on la parcourt de la fin\n"
   ]
  },
  {
   "cell_type": "code",
   "execution_count": null,
   "metadata": {},
   "outputs": [],
   "source": [
    "#-------Pratique / Solution\n",
    "##--- Récupérer un élément dans une liste sans générer d'erreur\n",
    "#indication: créer une fonction qui nous permette de récupérer un élément dans une \n",
    "#liste à partir de son indice, sans retourner d'erreur au cas où l'indice est \n",
    "#en dehors des limites de la liste\n",
    "## exemple:\n",
    "#print(recuperer_item(liste, 0))    #--- correct\n",
    "#print(recuperer_item(liste, 5))    #--- la liste ne contient pas le 4eme element\n",
    "#print(recuperer_item(liste, -13))  #--- la liste ne contient pas 12 element si on la parcourt de la fin\n",
    "\n",
    "d"
   ]
  },
  {
   "cell_type": "code",
   "execution_count": null,
   "metadata": {},
   "outputs": [],
   "source": [
    "#-------Pratique \n",
    "#Écrire un programme qui invite l'utilisateur à entrer une chaîne et compte le nombre d'occurrences \n",
    "#de chaque lettre dans la chaîne, indépendamment de la casse\n",
    "\n",
    "def fonction():\n",
    "    chaine = input(\"Entrez une chaine de caractères: \")\n",
    "    alphabet = [0] * 26\n",
    "    for letter in chaine:\n",
    "        if letter.isalpha():\n",
    "            standardized = letter.upper()\n",
    "            slot = ord(standardized)-65\n",
    "            alphabet[slot] = alphabet[slot] + 1\n",
    "    for i in range (len(alphabet)):\n",
    "        if alphabet[i]>0:\n",
    "            print(chr(i+65), \" : \", alphabet[i])\n",
    "print(chr(67))            \n",
    "fonction()"
   ]
  },
  {
   "cell_type": "code",
   "execution_count": 2,
   "metadata": {},
   "outputs": [
    {
     "name": "stdout",
     "output_type": "stream",
     "text": [
      "Entrez une chaine de caractères: dfghj\n",
      "5\n",
      "5\n"
     ]
    }
   ],
   "source": [
    "#-------Pratique \n",
    "#Écrire un programme qui invite l'utilisateur à entrer une chaîne , écrire une première fonction qui retourne sa longueur. \n",
    "#Ecrire une seconde fonction qui retourne la longueur d'une chaîne après l'avoir transformée en liste.\n",
    "import functools\n",
    "def fonction():\n",
    "    chaine = input(\"Entrez une chaine de caractères: \")\n",
    "    longueur = functools.reduce(lambda acc, x: acc +1, chaine,0)\n",
    "    print(longueur)\n",
    "    print(len(list(chaine)))\n",
    "fonction()"
   ]
  },
  {
   "cell_type": "code",
   "execution_count": 7,
   "metadata": {},
   "outputs": [
    {
     "name": "stdout",
     "output_type": "stream",
     "text": [
      "Entrez une chaine de caractères: s is t\n",
      "('is', 't', 3)\n"
     ]
    }
   ],
   "source": [
    "#-------Pratique \n",
    "#Écrire un programme qui invite l'utilisateur à entrer une phrase, puis fait des statistiques\n",
    "#sur cette phrase ( donne le mot le plus long, le mot le plus court et nombre totale de mots \n",
    "#dans la phrase\n",
    "\n",
    "import functools\n",
    "def fonction():\n",
    "    chaine = input(\"Entrez une chaine de caractères: \")\n",
    "    chaine=chaine.split()\n",
    "    stats = functools.reduce(lambda acc, x: (acc[0] if len(acc[0])>len(x) else x, acc[1] if len(acc[1])<len(x) else x, acc[2] +1), chaine, (chaine[0],chaine[0],0))\n",
    "    print(stats)\n",
    "fonction()"
   ]
  },
  {
   "cell_type": "code",
   "execution_count": 22,
   "metadata": {},
   "outputs": [
    {
     "name": "stdout",
     "output_type": "stream",
     "text": [
      "BonjourJetaime\n"
     ]
    }
   ],
   "source": [
    "#-------Pratique \n",
    "#Écrire un programme  qui nettoit une chaîne de caractères (String) de tout type de séparateurs (espaces, tabulations,\n",
    "#guillemets, ponctuations et apostrophes)\n",
    "import functools\n",
    "def fonction(string):\n",
    "    res = filter(lambda x: x.isalpha(), string)\n",
    "    print(\"\".join(res))\n",
    "    \n",
    "fonction(\"Bonjour! Je t'aime :)\")"
   ]
  },
  {
   "cell_type": "code",
   "execution_count": null,
   "metadata": {},
   "outputs": [],
   "source": [
    "#----- Pratique\n",
    "#Pour acheter en ligne un billet de cinéma ( déterminer les objets à manipuler + les actions à faire)\n",
    "#Objets à manipuler ( site web cinema, nom du film, date présentation, heure présentation, montant a payer) \n",
    "#Actions à faire ( entrer le site web du cinéma, choisir nom film, entrer date et heure présentation, afficher montant a payer \n"
   ]
  },
  {
   "cell_type": "code",
   "execution_count": null,
   "metadata": {},
   "outputs": [],
   "source": [
    "# --- Pratique\n",
    "#Pour prendre le bus  (déterminer les objets à manipuler + les actions à faire) \n",
    "#Objets à manipuler ( numéro bus , ticket but, date du jour, heure du jour, montant a payer) \n",
    "#Actions à faire ( aller dans la station bus, chercher le numéro de bus à apprendre, acheter ticket bus, \n",
    "#entrer date et heure, introduire montant à payer "
   ]
  },
  {
   "cell_type": "code",
   "execution_count": null,
   "metadata": {},
   "outputs": [],
   "source": [
    "# --- Pratique\n",
    "# pour réserver  une chambre d’hôtel  sans carte de crédit ( déterminer les objets à manipuler + les actions à faire) \n",
    "# Objets à manipuler ( nom de l’hôtel, date d’arrivée, date départ, nuitées, nombre de chambres, nombre d’adultes, nombre enfants , lit_bébé, montant à payer par nombre de chambres, montant total à payer, confirmation réservation\n",
    "# Actions à faire ( introduire le nom de l’hôtel, introduire les dates d’arrivée et départ, introduire le nombre de chambres, introduire le nombre d’adultes, le nombre d’enfants "
   ]
  }
 ],
 "metadata": {
  "kernelspec": {
   "display_name": "Python 3",
   "language": "python",
   "name": "python3"
  },
  "language_info": {
   "codemirror_mode": {
    "name": "ipython",
    "version": 3
   },
   "file_extension": ".py",
   "mimetype": "text/x-python",
   "name": "python",
   "nbconvert_exporter": "python",
   "pygments_lexer": "ipython3",
   "version": "3.7.6"
  }
 },
 "nbformat": 4,
 "nbformat_minor": 4
}
